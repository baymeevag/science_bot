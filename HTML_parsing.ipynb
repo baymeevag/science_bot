{
 "cells": [
  {
   "cell_type": "code",
   "execution_count": 22,
   "metadata": {
    "collapsed": false
   },
   "outputs": [],
   "source": [
    "import requests\n",
    "import os, shutil, re\n",
    "from bs4 import BeautifulSoup\n",
    "\n",
    "# establishing session\n",
    "s = requests.Session()\n",
    "\n",
    "def load_page(url, session): # load all page contents\n",
    "    r = session.get(url)\n",
    "    encoding = r.encoding if 'charset' in r.headers.get('content-type', '').lower() else None\n",
    "    soup = BeautifulSoup(r.content, 'lxml', from_encoding=encoding)\n",
    "    return soup\n",
    "    \n",
    "def clear_dir(path):\n",
    "    if not os.path.exists(path):\n",
    "        os.makedirs(path)\n",
    "    for the_file in os.listdir(path):\n",
    "        file_path = os.path.join(path, the_file)\n",
    "        try:\n",
    "            if os.path.isfile(file_path):\n",
    "                os.unlink(file_path)\n",
    "        except Exception as e:\n",
    "            print(e)\n",
    "\n",
    "clear_dir('./cyberleninka_all/')\n",
    "page = 1\n",
    "k = 0\n",
    "while k < 10:\n",
    "    url = 'http://cyberleninka.ru/article/c/matematika/%d' % (page)\n",
    "    soup = load_page(url, s)\n",
    "    if soup:\n",
    "        article_list = soup.findAll('div', {'class': 'title'}) # find all the relevant information\n",
    "        for a in article_list:\n",
    "            english = r'[A-Z|a-z]+$'\n",
    "            bad_chars = r'(\\w)*(\\{[^}]+)|(\\$)+|(\\\\)+|(\\/)+(\\w)*'\n",
    "            garbage = r'[.jpg]+|[.png]+|[.bmp]+|[.pdf]+'\n",
    "            if re.search(english, a.text) or re.search(bad_chars, a.text) or re.search(garbage, a.text):\n",
    "                continue\n",
    "            with open('./cyberleninka_all/page_%d.html' % (page), 'a') as output_file:\n",
    "                output_file.write(a.text.encode('utf8') + '\\n')\n",
    "    else:\n",
    "        break\n",
    "    page += 1\n",
    "    k += 1"
   ]
  },
  {
   "cell_type": "code",
   "execution_count": 20,
   "metadata": {
    "collapsed": false
   },
   "outputs": [],
   "source": [
    "with open('./cyberleninka_all.txt', 'w') as outfile:  # merge all files into one\n",
    "    for fname in os.listdir('./cyberleninka_all/'):\n",
    "        file_path = os.path.join('./cyberleninka_all/', fname)\n",
    "        with open(file_path) as infile:\n",
    "            outfile.write(infile.read())"
   ]
  }
 ],
 "metadata": {
  "anaconda-cloud": {},
  "kernelspec": {
   "display_name": "Python [conda env:py27]",
   "language": "python",
   "name": "conda-env-py27-py"
  },
  "language_info": {
   "codemirror_mode": {
    "name": "ipython",
    "version": 2
   },
   "file_extension": ".py",
   "mimetype": "text/x-python",
   "name": "python",
   "nbconvert_exporter": "python",
   "pygments_lexer": "ipython2",
   "version": "2.7.13"
  }
 },
 "nbformat": 4,
 "nbformat_minor": 1
}
