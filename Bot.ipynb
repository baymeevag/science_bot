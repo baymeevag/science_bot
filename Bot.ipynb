{
 "cells": [
  {
   "cell_type": "code",
   "execution_count": null,
   "metadata": {
    "collapsed": false
   },
   "outputs": [],
   "source": [
    "from random import randint, choice\n",
    "import tweepy, time, webbrowser, re\n",
    "\n",
    "class MarkovBot:\n",
    "    def __init__(self, path_to_secret, path_to_corpus, tweets_a_day): # path to corpus\n",
    "        self.sleep_timer = int(60 * 60 * tweets_a_day)\n",
    "        self.transition = {}\n",
    "        self.start_words = []\n",
    "        self.api = tweepy.API()\n",
    "        self.oauth(path_to_secret)\n",
    "        self.init_corpus(path_to_corpus)\n",
    "        \n",
    "    def oauth(self, path_to_secret):\n",
    "        with open(path_to_secret) as f:\n",
    "            consumer_key_secret = f.readlines()\n",
    "        consumer_key_secret = [x.strip() for x in consumer_key_secret] \n",
    "        consumer_key = consumer_key_secret[0]\n",
    "        consumer_secret = consumer_key_secret[1]\n",
    "        auth = tweepy.OAuthHandler(consumer_key, consumer_secret)\n",
    "        auth_url = auth.get_authorization_url()\n",
    "        webbrowser.open(auth_url)\n",
    "        verifier = raw_input('PIN: ').strip()\n",
    "        auth.get_access_token(verifier)\n",
    "        with open('./access_key_secret.txt', 'w') as f:\n",
    "            f.write(auth.access_token + '\\n' + auth.access_token_secret)\n",
    "        self.api = tweepy.API(auth)\n",
    "        \n",
    "    def init_corpus(self, path_to_corpus):\n",
    "        with open(path_to_corpus, 'r') as f:\n",
    "            for line in f.readlines():\n",
    "                words = line.split()\n",
    "                self.start_words.append(words[0])\n",
    "                n = len(words)\n",
    "                for word1, word2 in zip(words[:(n - 1)], words[1:]):\n",
    "                    if word1 in self.transition:\n",
    "                        self.transition[word1].append(word2)\n",
    "                    else:\n",
    "                        self.transition[word1] = [word2]\n",
    "                        \n",
    "    def generate(self):\n",
    "        current_word = choice(self.start_words)\n",
    "        result = [current_word]\n",
    "        while current_word in self.transition.keys() and self.transition[current_word]:\n",
    "            current_word = choice(self.transition[current_word])\n",
    "            result.append(current_word)\n",
    "        return ' '.join(result)\n",
    "    \n",
    "    def get_tweet(self):\n",
    "        tweet = self.generate()\n",
    "        while len(tweet.decode('utf8')) > 140 or len(tweet.split()) < 7:\n",
    "            tweet = self.generate()\n",
    "        return tweet\n",
    "        \n",
    "    def run(self):\n",
    "        while True:\n",
    "            tweet = self.get_tweet()\n",
    "            self.api.update_status(tweet) # Posts to twitter\n",
    "            time.sleep(self.sleep_timer)"
   ]
  },
  {
   "cell_type": "code",
   "execution_count": null,
   "metadata": {
    "collapsed": false
   },
   "outputs": [],
   "source": [
    "if __name__ == '__main__':\n",
    "    bot = MarkovBot('./consumer_key_secret.txt', './cyberleninka_all.txt', 3)\n",
    "    bot.run()"
   ]
  },
  {
   "cell_type": "code",
   "execution_count": 7,
   "metadata": {
    "collapsed": true,
    "tags": []
   },
   "outputs": [
    {
     "output_type": "stream",
     "name": "stdout",
     "text": "RT @otmusorov: Когда накуренный убегаешь от мусоров https://t.co/HH7SmfOyXO\nRT @cat_wolgast: ебанулся и скачу\nНаблюдаю за спорами взрослых дяденек о том как правильно решать проблему слишком открытых прав на ssh ключ, если си… https://t.co/8Ugm2gMiej\nRT @AntonBelyayev1: эту запись видят только сладкие булочки, которым сегодня повезёт.\nRT @omeliyakitty44: Когда пациент на вызове приносит тебе все снимки и думает, что скоровик в этом разбирается. https://t.co/2kThyIT9O4\nRT @TrapOfNerves: господи я так отчаянно пытаюсь донести это до каждой девы 😭😭😭😭 https://t.co/rDa717MKig\nКомбо брейкер https://t.co/i8uB59WThl\nRT @RussianMemesLtd: If you have at least one saucepan with a cork inserted in the handle, you keep the traditions of your ancestors and pa…\nСегодня планировала ВКАТИТЬСЯ и взяла с собой стрипы в качалку, но там зал для групповых занятий с зеркалами на ремонте.............\nRT @ARTSHL3Y: why did i do this https://t.co/4boDQvsNVm\nRT @DogsofTikTok: Kittys dreams came true 🥺😍 https://t.co/e1awFmAE1X\nRT @wcxuans: imagine being so pretty that there’s a whole court case about whether you had plastic surgery https://t.co/NVtlRZKrfv\nУже полгода как не катаюсь 😢 я обязательно вкачусь\nКатаюсь по полу, надев здоровенные каблуки https://t.co/Lg5qpsxXU0\nRT @neural_machine: Удачи и сделай свое дерьмо.\nЯ мерзлячка https://t.co/Xics3wRbEu\nRT @mama_lilya: https://t.co/O6qeXQGbfY\nRT @YakuzaFriday: Friday at last... https://t.co/4h5VkIQbGx\nRT @suichan_memory: 引越しました！ https://t.co/usaQl6JjUv\nRT @electroeb: Мальчики: (собираются)\n\nМужчины: надо как-нибудь собраться\n"
    }
   ],
   "source": [
    "import tweepy\n",
    "\n",
    "with open('./consumer.txt') as f:\n",
    "    consumer = f.readlines()\n",
    "\n",
    "consumer_key = consumer[0].strip()\n",
    "consumer_secret = consumer[1]\n",
    "\n",
    "with open('./access.txt') as f:\n",
    "    access = f.readlines()\n",
    "\n",
    "access_token = access[0].strip()\n",
    "access_token_secret = access[1]\n",
    "\n",
    "auth = tweepy.OAuthHandler(consumer_key, consumer_secret)\n",
    "auth.set_access_token(access_token, access_token_secret)\n",
    "\n",
    "api = tweepy.API(auth)\n",
    "\n",
    "public_tweets = api.home_timeline()\n",
    "for tweet in public_tweets:\n",
    "    print(tweet.text)"
   ]
  },
  {
   "cell_type": "code",
   "execution_count": null,
   "metadata": {},
   "outputs": [],
   "source": []
  }
 ],
 "metadata": {
  "anaconda-cloud": {},
  "kernelspec": {
   "display_name": "Python 3.8.5 64-bit",
   "language": "python",
   "name": "python_defaultSpec_1600700308129"
  },
  "language_info": {
   "codemirror_mode": {
    "name": "ipython",
    "version": 2
   },
   "file_extension": ".py",
   "mimetype": "text/x-python",
   "name": "python",
   "nbconvert_exporter": "python",
   "pygments_lexer": "ipython2",
   "version": "3.8.5-final"
  }
 },
 "nbformat": 4,
 "nbformat_minor": 1
}