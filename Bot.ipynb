{
 "cells": [
  {
   "cell_type": "code",
   "execution_count": 16,
   "metadata": {
    "collapsed": false
   },
   "outputs": [],
   "source": [
    "from random import randint, choice\n",
    "import tweepy, time, webbrowser\n",
    "\n",
    "class MarkovBot:\n",
    "    def __init__(self): # path to corpus\n",
    "        self.sleep_timer = int(60 * 60 * 12)\n",
    "        self.corpus = {}\n",
    "        self.start_words = []\n",
    "        self.api = tweepy.API()\n",
    "        \n",
    "    def oauth(self, path_to_secret):\n",
    "        with open(path_to_secret) as f:\n",
    "            api_key_secret = f.readlines()\n",
    "        api_key_secret = [x.strip() for x in api_key_secret] \n",
    "        CONSUMER_KEY = api_key_secret[0]\n",
    "        CONSUMER_SECRET = api_key_secret[1]\n",
    "        auth = tweepy.OAuthHandler(CONSUMER_KEY, CONSUMER_SECRET)\n",
    "        auth_url = auth.get_authorization_url()\n",
    "        webbrowser.open(auth_url)\n",
    "        verifier = raw_input('PIN: ').strip()\n",
    "        auth.get_access_token(verifier)\n",
    "        with open('./access_key_secret.txt', 'w') as f:\n",
    "            f.write(auth.access_token + '\\n' + auth.access_token_secret)\n",
    "        self.api = tweepy.API(auth)\n",
    "        \n",
    "    def init_corpus(self, path_to_corpus):\n",
    "        with open(path_to_corpus, 'r') as f:\n",
    "            for line in f.readlines():\n",
    "                words = line.split()\n",
    "                self.start_words.append(words[0])\n",
    "                n = len(words)\n",
    "                for word1, word2 in zip(words[:(n - 1)], words[1:]):\n",
    "                    if word1 in self.corpus:\n",
    "                        self.corpus[word1].append(word2)\n",
    "                    else:\n",
    "                        self.corpus[word1] = [word2]\n",
    "                        \n",
    "    def generate(self):\n",
    "        current_word = choice(self.start_words)\n",
    "        result = [current_word]\n",
    "        while(current_word in self.corpus.keys() and self.corpus[current_word]):\n",
    "            current_word = choice(self.corpus[current_word])\n",
    "            result.append(current_word)\n",
    "        return ' '.join(result)\n",
    "    \n",
    "    def get_tweet(self):\n",
    "        tweet = self.generate()\n",
    "        while len(tweet) > 140:\n",
    "            tweet = self.generate()\n",
    "        return tweet\n",
    "        \n",
    "        \n",
    "    def run(self):\n",
    "        self.init_corpus('./text.txt')\n",
    "        while True:\n",
    "            tweet = self.get_tweet() # Samples\n",
    "            print tweet\n",
    "            self.api.update_status(tweet) # Posts to twitter\n",
    "            time.sleep(self.sleep_timer) #Every 10 minutes"
   ]
  },
  {
   "cell_type": "code",
   "execution_count": null,
   "metadata": {
    "collapsed": false
   },
   "outputs": [
    {
     "name": "stdout",
     "output_type": "stream",
     "text": [
      "PIN: 9123672\n",
      "О применении символьных последовательностей.\n",
      "Кинематика пространственного распространения ударной трубе.\n",
      "Принцип максимума детерминанта.\n"
     ]
    }
   ],
   "source": [
    "bot = MarkovBot()\n",
    "bot.oauth('./api_key_secret.txt')\n",
    "bot.run()"
   ]
  },
  {
   "cell_type": "code",
   "execution_count": null,
   "metadata": {
    "collapsed": false
   },
   "outputs": [],
   "source": [
    "import tweepy, webbrowser\n",
    "\n",
    "with open('./api_key_secret.txt') as f:\n",
    "    api_key_secret = f.readlines()\n",
    "api_key_secret = [x.strip() for x in api_key_secret] \n",
    "CONSUMER_KEY = api_key_secret[0]\n",
    "CONSUMER_SECRET = api_key_secret[1]\n",
    "\n",
    "auth = tweepy.OAuthHandler(CONSUMER_KEY, CONSUMER_SECRET)\n",
    "auth_url = auth.get_authorization_url()\n",
    "webbrowser.open(auth_url)\n",
    "verifier = raw_input('PIN: ').strip()\n",
    "auth.get_access_token(verifier)\n",
    "with open('./access_key_secret.txt', 'w') as f:\n",
    "    f.write(auth.access_token + '\\n' + auth.access_token_secret)"
   ]
  },
  {
   "cell_type": "code",
   "execution_count": 157,
   "metadata": {
    "collapsed": false
   },
   "outputs": [
    {
     "data": {
      "text/plain": [
       "Status(contributors=None, truncated=False, text=u'\\u041c\\u0435\\u0442\\u043e\\u0434\\u0438\\u043a\\u0430 \\u043a\\u043e\\u043b\\u0438\\u0447\\u0435\\u0441\\u0442\\u0432\\u0435\\u043d\\u043d\\u043e\\u0439 \\u0432\\u0430\\u0436\\u043d\\u043e\\u0441\\u0442\\u0438 \\u043a\\u043e\\u043d\\u0446\\u0435\\u043f\\u0442\\u043e\\u0432 \\u043f\\u0440\\u0438\\u0440\\u043e\\u0434\\u043d\\u044b\\u0445 \\u0434\\u0438\\u043d\\u0430\\u043c\\u0438\\u0447\\u0435\\u0441\\u043a\\u0438\\u0445 \\u0441\\u0438\\u0441\\u0442\\u0435\\u043c \\u043c\\u0430\\u0441\\u0441\\u043e\\u0432\\u043e\\u0433\\u043e \\u043e\\u0431\\u0441\\u043b\\u0443\\u0436\\u0438\\u0432\\u0430\\u043d\\u0438\\u044f \\u043e\\u0433\\u0440\\u0430\\u043d\\u0438\\u0447\\u0435\\u043d\\u043d\\u043e\\u0439 \\u043f\\u043b\\u0430\\u0441\\u0442\\u0438\\u043d\\u043e\\u0439.', is_quote_status=False, in_reply_to_status_id=None, id=852951121064841216L, favorite_count=0, _api=<tweepy.api.API object at 0x0000000007FB1F98>, author=User(follow_request_sent=False, has_extended_profile=False, profile_use_background_image=True, _json={u'follow_request_sent': False, u'has_extended_profile': False, u'profile_use_background_image': True, u'default_profile_image': True, u'id': 852945224313835520L, u'profile_background_image_url_https': None, u'verified': False, u'translator_type': u'none', u'profile_text_color': u'333333', u'profile_image_url_https': u'https://abs.twimg.com/sticky/default_profile_images/default_profile_normal.png', u'profile_sidebar_fill_color': u'DDEEF6', u'entities': {u'description': {u'urls': []}}, u'followers_count': 0, u'profile_sidebar_border_color': u'C0DEED', u'id_str': u'852945224313835520', u'profile_background_color': u'F5F8FA', u'listed_count': 0, u'is_translation_enabled': False, u'utc_offset': None, u'statuses_count': 2, u'description': u'', u'friends_count': 0, u'location': u'', u'profile_link_color': u'1DA1F2', u'profile_image_url': u'http://abs.twimg.com/sticky/default_profile_images/default_profile_normal.png', u'following': False, u'geo_enabled': False, u'profile_background_image_url': None, u'screen_name': u'math_rus', u'lang': u'en', u'profile_background_tile': False, u'favourites_count': 0, u'name': u'math_articles_rus', u'notifications': False, u'url': None, u'created_at': u'Fri Apr 14 18:02:43 +0000 2017', u'contributors_enabled': False, u'time_zone': None, u'protected': False, u'default_profile': True, u'is_translator': False}, time_zone=None, id=852945224313835520L, description=u'', _api=<tweepy.api.API object at 0x0000000007FB1F98>, verified=False, profile_text_color=u'333333', profile_image_url_https=u'https://abs.twimg.com/sticky/default_profile_images/default_profile_normal.png', profile_sidebar_fill_color=u'DDEEF6', is_translator=False, geo_enabled=False, entities={u'description': {u'urls': []}}, followers_count=0, protected=False, id_str=u'852945224313835520', default_profile_image=True, listed_count=0, lang=u'en', utc_offset=None, statuses_count=2, profile_background_color=u'F5F8FA', friends_count=0, profile_link_color=u'1DA1F2', profile_image_url=u'http://abs.twimg.com/sticky/default_profile_images/default_profile_normal.png', notifications=False, default_profile=True, profile_background_image_url_https=None, profile_background_image_url=None, name=u'math_articles_rus', is_translation_enabled=False, profile_background_tile=False, favourites_count=0, screen_name=u'math_rus', url=None, created_at=datetime.datetime(2017, 4, 14, 18, 2, 43), contributors_enabled=False, location=u'', profile_sidebar_border_color=u'C0DEED', translator_type=u'none', following=False), _json={u'contributors': None, u'truncated': False, u'text': u'\\u041c\\u0435\\u0442\\u043e\\u0434\\u0438\\u043a\\u0430 \\u043a\\u043e\\u043b\\u0438\\u0447\\u0435\\u0441\\u0442\\u0432\\u0435\\u043d\\u043d\\u043e\\u0439 \\u0432\\u0430\\u0436\\u043d\\u043e\\u0441\\u0442\\u0438 \\u043a\\u043e\\u043d\\u0446\\u0435\\u043f\\u0442\\u043e\\u0432 \\u043f\\u0440\\u0438\\u0440\\u043e\\u0434\\u043d\\u044b\\u0445 \\u0434\\u0438\\u043d\\u0430\\u043c\\u0438\\u0447\\u0435\\u0441\\u043a\\u0438\\u0445 \\u0441\\u0438\\u0441\\u0442\\u0435\\u043c \\u043c\\u0430\\u0441\\u0441\\u043e\\u0432\\u043e\\u0433\\u043e \\u043e\\u0431\\u0441\\u043b\\u0443\\u0436\\u0438\\u0432\\u0430\\u043d\\u0438\\u044f \\u043e\\u0433\\u0440\\u0430\\u043d\\u0438\\u0447\\u0435\\u043d\\u043d\\u043e\\u0439 \\u043f\\u043b\\u0430\\u0441\\u0442\\u0438\\u043d\\u043e\\u0439.', u'is_quote_status': False, u'in_reply_to_status_id': None, u'id': 852951121064841216L, u'favorite_count': 0, u'source': u'<a href=\"https://github.com/baymeevag/science_bot\" rel=\"nofollow\">Math_articles_generator</a>', u'retweeted': False, u'coordinates': None, u'entities': {u'symbols': [], u'user_mentions': [], u'hashtags': [], u'urls': []}, u'in_reply_to_screen_name': None, u'in_reply_to_user_id': None, u'retweet_count': 0, u'id_str': u'852951121064841216', u'favorited': False, u'user': {u'follow_request_sent': False, u'has_extended_profile': False, u'profile_use_background_image': True, u'default_profile_image': True, u'id': 852945224313835520L, u'profile_background_image_url_https': None, u'verified': False, u'translator_type': u'none', u'profile_text_color': u'333333', u'profile_image_url_https': u'https://abs.twimg.com/sticky/default_profile_images/default_profile_normal.png', u'profile_sidebar_fill_color': u'DDEEF6', u'entities': {u'description': {u'urls': []}}, u'followers_count': 0, u'profile_sidebar_border_color': u'C0DEED', u'id_str': u'852945224313835520', u'profile_background_color': u'F5F8FA', u'listed_count': 0, u'is_translation_enabled': False, u'utc_offset': None, u'statuses_count': 2, u'description': u'', u'friends_count': 0, u'location': u'', u'profile_link_color': u'1DA1F2', u'profile_image_url': u'http://abs.twimg.com/sticky/default_profile_images/default_profile_normal.png', u'following': False, u'geo_enabled': False, u'profile_background_image_url': None, u'screen_name': u'math_rus', u'lang': u'en', u'profile_background_tile': False, u'favourites_count': 0, u'name': u'math_articles_rus', u'notifications': False, u'url': None, u'created_at': u'Fri Apr 14 18:02:43 +0000 2017', u'contributors_enabled': False, u'time_zone': None, u'protected': False, u'default_profile': True, u'is_translator': False}, u'geo': None, u'in_reply_to_user_id_str': None, u'lang': u'ru', u'created_at': u'Fri Apr 14 18:26:08 +0000 2017', u'in_reply_to_status_id_str': None, u'place': None}, coordinates=None, entities={u'symbols': [], u'user_mentions': [], u'hashtags': [], u'urls': []}, in_reply_to_screen_name=None, id_str=u'852951121064841216', retweet_count=0, in_reply_to_user_id=None, favorited=False, source_url=u'https://github.com/baymeevag/science_bot', user=User(follow_request_sent=False, has_extended_profile=False, profile_use_background_image=True, _json={u'follow_request_sent': False, u'has_extended_profile': False, u'profile_use_background_image': True, u'default_profile_image': True, u'id': 852945224313835520L, u'profile_background_image_url_https': None, u'verified': False, u'translator_type': u'none', u'profile_text_color': u'333333', u'profile_image_url_https': u'https://abs.twimg.com/sticky/default_profile_images/default_profile_normal.png', u'profile_sidebar_fill_color': u'DDEEF6', u'entities': {u'description': {u'urls': []}}, u'followers_count': 0, u'profile_sidebar_border_color': u'C0DEED', u'id_str': u'852945224313835520', u'profile_background_color': u'F5F8FA', u'listed_count': 0, u'is_translation_enabled': False, u'utc_offset': None, u'statuses_count': 2, u'description': u'', u'friends_count': 0, u'location': u'', u'profile_link_color': u'1DA1F2', u'profile_image_url': u'http://abs.twimg.com/sticky/default_profile_images/default_profile_normal.png', u'following': False, u'geo_enabled': False, u'profile_background_image_url': None, u'screen_name': u'math_rus', u'lang': u'en', u'profile_background_tile': False, u'favourites_count': 0, u'name': u'math_articles_rus', u'notifications': False, u'url': None, u'created_at': u'Fri Apr 14 18:02:43 +0000 2017', u'contributors_enabled': False, u'time_zone': None, u'protected': False, u'default_profile': True, u'is_translator': False}, time_zone=None, id=852945224313835520L, description=u'', _api=<tweepy.api.API object at 0x0000000007FB1F98>, verified=False, profile_text_color=u'333333', profile_image_url_https=u'https://abs.twimg.com/sticky/default_profile_images/default_profile_normal.png', profile_sidebar_fill_color=u'DDEEF6', is_translator=False, geo_enabled=False, entities={u'description': {u'urls': []}}, followers_count=0, protected=False, id_str=u'852945224313835520', default_profile_image=True, listed_count=0, lang=u'en', utc_offset=None, statuses_count=2, profile_background_color=u'F5F8FA', friends_count=0, profile_link_color=u'1DA1F2', profile_image_url=u'http://abs.twimg.com/sticky/default_profile_images/default_profile_normal.png', notifications=False, default_profile=True, profile_background_image_url_https=None, profile_background_image_url=None, name=u'math_articles_rus', is_translation_enabled=False, profile_background_tile=False, favourites_count=0, screen_name=u'math_rus', url=None, created_at=datetime.datetime(2017, 4, 14, 18, 2, 43), contributors_enabled=False, location=u'', profile_sidebar_border_color=u'C0DEED', translator_type=u'none', following=False), geo=None, in_reply_to_user_id_str=None, lang=u'ru', created_at=datetime.datetime(2017, 4, 14, 18, 26, 8), in_reply_to_status_id_str=None, place=None, source=u'Math_articles_generator', retweeted=False)"
      ]
     },
     "execution_count": 157,
     "metadata": {},
     "output_type": "execute_result"
    }
   ],
   "source": [
    "api = tweepy.API(auth)\n",
    "tweet = bot.get_tweet()\n",
    "status = api.update_status(tweet)"
   ]
  },
  {
   "cell_type": "code",
   "execution_count": null,
   "metadata": {
    "collapsed": true
   },
   "outputs": [],
   "source": []
  }
 ],
 "metadata": {
  "anaconda-cloud": {},
  "kernelspec": {
   "display_name": "Python [conda env:py27]",
   "language": "python",
   "name": "conda-env-py27-py"
  },
  "language_info": {
   "codemirror_mode": {
    "name": "ipython",
    "version": 2
   },
   "file_extension": ".py",
   "mimetype": "text/x-python",
   "name": "python",
   "nbconvert_exporter": "python",
   "pygments_lexer": "ipython2",
   "version": "2.7.13"
  }
 },
 "nbformat": 4,
 "nbformat_minor": 1
}
