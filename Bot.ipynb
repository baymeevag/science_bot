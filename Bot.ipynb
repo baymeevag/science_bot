{
 "cells": [
  {
   "cell_type": "code",
   "execution_count": 5,
   "metadata": {
    "collapsed": false
   },
   "outputs": [],
   "source": [
    "from random import randint, choice\n",
    "import tweepy, time, webbrowser, re, request\n",
    "\n",
    "class MarkovBot:\n",
    "    def __init__(self, path_to_secret, path_to_corpus, tweets_a_day): # path to corpus\n",
    "        self.sleep_timer = int(60 * 60 * tweets_a_day)\n",
    "        self.transition = {}\n",
    "        self.start_words = []\n",
    "        self.api = tweepy.API()\n",
    "        self.oauth(path_to_secret)\n",
    "        self.init_corpus(path_to_corpus)\n",
    "        \n",
    "    def oauth(self, path_to_secret):\n",
    "        with open(path_to_secret) as f:\n",
    "            consumer_key_secret = f.readlines()\n",
    "        consumer_key_secret = [x.strip() for x in consumer_key_secret] \n",
    "        consumer_key = consumer_key_secret[0]\n",
    "        consumer_secret = consumer_key_secret[1]\n",
    "        auth = tweepy.OAuthHandler(consumer_key, consumer_secret)\n",
    "        auth_url = auth.get_authorization_url()\n",
    "        webbrowser.open(auth_url)\n",
    "        verifier = raw_input('PIN: ').strip()\n",
    "        auth.get_access_token(verifier)\n",
    "        with open('./access_key_secret.txt', 'w') as f:\n",
    "            f.write(auth.access_token + '\\n' + auth.access_token_secret)\n",
    "        self.api = tweepy.API(auth)\n",
    "        \n",
    "    def init_corpus(self, path_to_corpus):\n",
    "        with open(path_to_corpus, 'r') as f:\n",
    "            for line in f.readlines():\n",
    "                words = line.split()\n",
    "                self.start_words.append(words[0])\n",
    "                n = len(words)\n",
    "                for word1, word2 in zip(words[:(n - 1)], words[1:]):\n",
    "                    if word1 in self.corpus:\n",
    "                        self.transition[word1].append(word2)\n",
    "                    else:\n",
    "                        self.transition[word1] = [word2]\n",
    "                        \n",
    "    def generate(self):\n",
    "        current_word = choice(self.start_words)\n",
    "        result = [current_word]\n",
    "        while current_word in self.transition.keys() and self.transition[current_word]:\n",
    "            current_word = choice(self.transition[current_word])\n",
    "            result.append(current_word)\n",
    "        return ' '.join(result)\n",
    "    \n",
    "    def get_tweet(self):\n",
    "        tweet = self.generate()\n",
    "        while len(tweet) > 140:\n",
    "            tweet = self.generate()\n",
    "        return tweet\n",
    "        \n",
    "    def run(self):\n",
    "        while True:\n",
    "            tweet = self.get_tweet()\n",
    "            self.api.update_status(tweet) # Posts to twitter\n",
    "            time.sleep(self.sleep_timer)"
   ]
  },
  {
   "cell_type": "code",
   "execution_count": 8,
   "metadata": {
    "collapsed": false
   },
   "outputs": [
    {
     "name": "stdout",
     "output_type": "stream",
     "text": [
      "PIN: 4013088\n"
     ]
    }
   ],
   "source": [
    "if __name__ == '__main__':\n",
    "    bot = MarkovBot('./consumer_key_secret.txt', './cyberleninka_all.txt', 3)\n",
    "    #bot.run()"
   ]
  },
  {
   "cell_type": "code",
   "execution_count": null,
   "metadata": {
    "collapsed": false
   },
   "outputs": [
    {
     "name": "stdout",
     "output_type": "stream",
     "text": [
      "О корректности задачи упорядочения организации вагонопотоков\n"
     ]
    }
   ],
   "source": [
    "bot.run()"
   ]
  },
  {
   "cell_type": "code",
   "execution_count": null,
   "metadata": {
    "collapsed": true
   },
   "outputs": [],
   "source": []
  }
 ],
 "metadata": {
  "anaconda-cloud": {},
  "kernelspec": {
   "display_name": "Python [conda env:py27]",
   "language": "python",
   "name": "conda-env-py27-py"
  },
  "language_info": {
   "codemirror_mode": {
    "name": "ipython",
    "version": 2
   },
   "file_extension": ".py",
   "mimetype": "text/x-python",
   "name": "python",
   "nbconvert_exporter": "python",
   "pygments_lexer": "ipython2",
   "version": "2.7.13"
  }
 },
 "nbformat": 4,
 "nbformat_minor": 1
}
