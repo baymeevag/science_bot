{
 "cells": [
  {
   "cell_type": "code",
   "execution_count": null,
   "metadata": {
    "collapsed": false
   },
   "outputs": [],
   "source": [
    "import tweepy, webbrowser\n",
    "\n",
    "with open('./api_key_secret.txt') as f:\n",
    "    api_key_secret = f.readlines()\n",
    "api_key_secret = [x.strip() for x in api_key_secret] \n",
    "CONSUMER_KEY = api_key_secret[0]\n",
    "CONSUMER_SECRET = api_key_secret[1]\n",
    "\n",
    "auth = tweepy.OAuthHandler(CONSUMER_KEY, CONSUMER_SECRET)\n",
    "auth_url = auth.get_authorization_url()\n",
    "webbrowser.open(auth_url)\n",
    "verifier = raw_input('PIN: ').strip()\n",
    "auth.get_access_token(verifier)\n",
    "with open('./access_key_secret.txt', 'w') as f:\n",
    "    f.write(auth.access_token + '\\n' + auth.access_token_secret)"
   ]
  },
  {
   "cell_type": "code",
   "execution_count": null,
   "metadata": {
    "collapsed": true
   },
   "outputs": [],
   "source": []
  }
 ],
 "metadata": {
  "anaconda-cloud": {},
  "kernelspec": {
   "display_name": "Python [conda env:py27]",
   "language": "python",
   "name": "conda-env-py27-py"
  },
  "language_info": {
   "codemirror_mode": {
    "name": "ipython",
    "version": 2
   },
   "file_extension": ".py",
   "mimetype": "text/x-python",
   "name": "python",
   "nbconvert_exporter": "python",
   "pygments_lexer": "ipython2",
   "version": "2.7.13"
  }
 },
 "nbformat": 4,
 "nbformat_minor": 1
}
