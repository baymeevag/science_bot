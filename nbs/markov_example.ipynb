{
 "metadata": {
  "language_info": {
   "codemirror_mode": {
    "name": "ipython",
    "version": 3
   },
   "file_extension": ".py",
   "mimetype": "text/x-python",
   "name": "python",
   "nbconvert_exporter": "python",
   "pygments_lexer": "ipython3",
   "version": "3.7.3-final"
  },
  "orig_nbformat": 2,
  "kernelspec": {
   "name": "python3",
   "display_name": "Python 3.7.3 64-bit",
   "metadata": {
    "interpreter": {
     "hash": "1debccd9aa023548e8ee87e33154c776096db88d45d5840f97cfd7586cbccf05"
    }
   }
  }
 },
 "nbformat": 4,
 "nbformat_minor": 2,
 "cells": [
  {
   "cell_type": "code",
   "execution_count": 1,
   "metadata": {},
   "outputs": [],
   "source": [
    "import sys\n",
    "sys.path.append('../')"
   ]
  },
  {
   "cell_type": "code",
   "execution_count": 2,
   "metadata": {},
   "outputs": [],
   "source": [
    "from corpus.CorpusCollector import CorpusCollector"
   ]
  },
  {
   "cell_type": "code",
   "execution_count": 4,
   "metadata": {},
   "outputs": [],
   "source": [
    "import pandas as pd"
   ]
  },
  {
   "cell_type": "code",
   "execution_count": 6,
   "metadata": {},
   "outputs": [
    {
     "output_type": "execute_result",
     "data": {
      "text/plain": [
       "'db/mathematics-articles.csv'"
      ]
     },
     "metadata": {},
     "execution_count": 6
    }
   ],
   "source": [
    "collector.file_name"
   ]
  },
  {
   "cell_type": "code",
   "execution_count": 8,
   "metadata": {},
   "outputs": [],
   "source": [
    "topic = 'mathematics'\n",
    "collector = CorpusCollector(topic)\n",
    "corpus = pd.read_csv('../' + collector.file_name)['article_name']"
   ]
  },
  {
   "cell_type": "code",
   "execution_count": 9,
   "metadata": {},
   "outputs": [
    {
     "output_type": "execute_result",
     "data": {
      "text/plain": [
       "array(['p-доминантное равновесие в задаче стимулирования в активной системе с распределенным контролем',\n",
       "       'Метод расщепления в задаче мезометеорологии',\n",
       "       'Трассировка в канале методом муравьиной колонии', ...,\n",
       "       'EHTIMOLLAR NAZARIYASI',\n",
       "       'АДАПТИВНОЕ ОПТИМАЛЬНОЕ УПРАВЛЕНИЕ СИСТЕМОЙ НАКОПЛЕНИЯ ЭНЕРГИИ ГЕНЕРИРУЮЩЕГО ПОТРЕБИТЕЛЯ С ВОЗОБНОВЛЯЕМЫМИ ИСТОЧНИКАМИ ЭНЕРГИИ',\n",
       "       'MODELING NONLINEAR EVOLUTIONARY COMPETING PROCESSES ON THE BASIS OF THE LOTKA - VOLTERRA MODIFICATION'],\n",
       "      dtype=object)"
      ]
     },
     "metadata": {},
     "execution_count": 9
    }
   ],
   "source": [
    "corpus"
   ]
  },
  {
   "cell_type": "code",
   "execution_count": null,
   "metadata": {},
   "outputs": [],
   "source": []
  }
 ]
}